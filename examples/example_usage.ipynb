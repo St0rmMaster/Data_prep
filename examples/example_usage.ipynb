{
 "cells": [
  {
   "cell_type": "markdown",
   "id": "f50a732e",
   "metadata": {},
   "source": [
    "# Пример использования DataFrameProcessorFramework\n",
    "\n",
    "Этот пример демонстрирует основные возможности фреймворка для обработки DataFrame в Google Colab."
   ]
  },
  {
   "cell_type": "code",
   "execution_count": null,
   "id": "8d89bbdd",
   "metadata": {},
   "outputs": [],
   "source": [
    "# Импортируем необходимые библиотеки\n",
    "import pandas as pd\n",
    "import numpy as np\n",
    "import sys\n",
    "from datetime import datetime, timedelta"
   ]
  },
  {
   "cell_type": "markdown",
   "id": "53bd6e48",
   "metadata": {},
   "source": [
    "## 1. Подключение фреймворка\n",
    "\n",
    "Сначала нужно добавить путь к фреймворку или установить его."
   ]
  },
  {
   "cell_type": "code",
   "execution_count": null,
   "id": "f098eacf",
   "metadata": {},
   "outputs": [],
   "source": [
    "# Вариант 1: Если фреймворк уже скопирован в директорию Colab\n",
    "sys.path.append('/content/Data_prep')  # Измените путь при необходимости\n",
    "\n",
    "# Вариант 2: Установка из репозитория GitHub (раскомментируйте при необходимости)\n",
    "# !git clone https://github.com/username/Data_prep.git\n",
    "# sys.path.append('/content/Data_prep')"
   ]
  },
  {
   "cell_type": "markdown",
   "id": "69ff1b75",
   "metadata": {},
   "source": [
    "## 2. Создание тестового DataFrame\n",
    "\n",
    "Для демонстрации создадим тестовый DataFrame с различными типами данных и пропущенными значениями."
   ]
  },
  {
   "cell_type": "code",
   "execution_count": null,
   "id": "0453a330",
   "metadata": {},
   "outputs": [],
   "source": [
    "# Создаем тестовый набор данных\n",
    "def create_test_dataframe():\n",
    "    # Создаем даты\n",
    "    base_date = datetime.now()\n",
    "    dates = [base_date + timedelta(days=i) for i in range(100)]\n",
    "    \n",
    "    # Создаем числовые данные с пропусками\n",
    "    np.random.seed(42)\n",
    "    values = np.random.normal(100, 15, 100)\n",
    "    values[np.random.choice(100, 15, replace=False)] = np.nan  # Добавляем пропуски\n",
    "    \n",
    "    # Создаем категориальные данные с пропусками\n",
    "    categories = np.random.choice(['A', 'B', 'C', 'D', np.nan], 100)\n",
    "    \n",
    "    # Создаем DataFrame\n",
    "    df = pd.DataFrame({\n",
    "        'timestamp': dates,\n",
    "        'value': values,\n",
    "        'category': categories,\n",
    "        'integer': np.random.randint(1, 100, 100),\n",
    "        'decimal': np.random.random(100) * 100\n",
    "    })\n",
    "    \n",
    "    # Добавляем дубликаты\n",
    "    duplicate_rows = df.sample(10).copy()\n",
    "    df = pd.concat([df, duplicate_rows]).reset_index(drop=True)\n",
    "    \n",
    "    # Преобразуем timestamp в строку, чтобы имитировать сырые данные\n",
    "    df['timestamp'] = df['timestamp'].astype(str)\n",
    "    \n",
    "    return df\n",
    "\n",
    "# Создаем тестовый DataFrame\n",
    "raw_dataframe = create_test_dataframe()\n",
    "\n",
    "# Проверяем исходные данные\n",
    "print(\"Размер данных:\", raw_dataframe.shape)\n",
    "print(\"\\nИнформация о данных:\")\n",
    "raw_dataframe.info()\n",
    "print(\"\\nПервые 5 строк:\")\n",
    "display(raw_dataframe.head())\n",
    "\n",
    "# Проверяем наличие пропусков\n",
    "print(\"\\nКоличество пропущенных значений:\")\n",
    "display(raw_dataframe.isna().sum())"
   ]
  },
  {
   "cell_type": "markdown",
   "id": "9ed274f3",
   "metadata": {},
   "source": [
    "## 3. Запуск UI для обработки данных\n",
    "\n",
    "Теперь запустим интерактивный интерфейс для обработки нашего DataFrame."
   ]
  },
  {
   "cell_type": "code",
   "execution_count": null,
   "id": "762d09c3",
   "metadata": {},
   "outputs": [],
   "source": [
    "# Импортируем функцию запуска UI\n",
    "from dataframe_processor_framework import launch_processor_ui\n",
    "\n",
    "# Запускаем UI\n",
    "processor_ui_instance = launch_processor_ui(raw_dataframe)"
   ]
  },
  {
   "cell_type": "markdown",
   "id": "0180c7de",
   "metadata": {},
   "source": [
    "## 4. Получение обработанного DataFrame\n",
    "\n",
    "После работы с UI и нажатия кнопки \"Обработать и сохранить\", получаем обработанный DataFrame."
   ]
  },
  {
   "cell_type": "code",
   "execution_count": null,
   "id": "3e41fa67",
   "metadata": {},
   "outputs": [],
   "source": [
    "# Получаем обработанный DataFrame\n",
    "processed_df = processor_ui_instance.get_final_dataframe()\n",
    "\n",
    "# Проверяем результат\n",
    "if processed_df is not None:\n",
    "    print(\"Обработанный DataFrame готов к использованию!\")\n",
    "    print(\"\\nРазмер данных после обработки:\", processed_df.shape)\n",
    "    print(\"\\nИнформация об обработанных данных:\")\n",
    "    processed_df.info()\n",
    "    print(\"\\nПервые 5 строк обработанного DataFrame:\")\n",
    "    display(processed_df.head())\n",
    "    \n",
    "    # Проверяем наличие пропусков после обработки\n",
    "    print(\"\\nКоличество пропущенных значений после обработки:\")\n",
    "    display(processed_df.isna().sum())\n",
    "else:\n",
    "    print(\"Обработка не была завершена или DataFrame не доступен.\")"
   ]
  },
  {
   "cell_type": "markdown",
   "id": "0687a8f1",
   "metadata": {},
   "source": [
    "## 5. Прямое использование компонентов фреймворка\n",
    "\n",
    "При необходимости можно использовать компоненты фреймворка напрямую без UI."
   ]
  },
  {
   "cell_type": "code",
   "execution_count": null,
   "id": "d2d890ba",
   "metadata": {},
   "outputs": [],
   "source": [
    "# Пример прямого использования DataFrameProcessor\n",
    "from dataframe_processor_framework import DataFrameProcessor\n",
    "\n",
    "# Создаем экземпляр процессора\n",
    "processor = DataFrameProcessor(raw_dataframe.copy())\n",
    "\n",
    "# Применяем последовательно операции обработки\n",
    "processor.set_datetime_index(time_col='timestamp')\n",
    "processor.handle_missing_values(strategy='ffill')\n",
    "processor.remove_duplicate_rows(keep='first')\n",
    "processor.convert_data_types({'decimal': 'float', 'integer': 'int'})\n",
    "\n",
    "# Получаем результат\n",
    "manually_processed_df = processor.get_processed_df()\n",
    "\n",
    "# Проверяем результат\n",
    "print(\"DataFrame после ручной обработки:\")\n",
    "display(manually_processed_df.head())\n",
    "\n",
    "# Получаем лог операций\n",
    "print(\"\\nЛог операций:\")\n",
    "for msg in processor.get_log_messages():\n",
    "    print(\"- \" + msg)"
   ]
  }
 ],
 "metadata": {
  "language_info": {
   "name": "python"
  }
 },
 "nbformat": 4,
 "nbformat_minor": 5
}
